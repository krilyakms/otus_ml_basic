{
 "cells": [
  {
   "cell_type": "markdown",
   "id": "f3890a6d",
   "metadata": {},
   "source": [
    "# Домашнее задание по теме \"Работа с функциями и данными\""
   ]
  },
  {
   "cell_type": "markdown",
   "id": "17a12414",
   "metadata": {},
   "source": [
    "## Решение квадратных уравненией"
   ]
  },
  {
   "cell_type": "markdown",
   "id": "8e39a095",
   "metadata": {},
   "source": [
    "Написать функцию, которая принимает на вход квадратное уравнение (одной строкой) и возвращает его корни, либо сообщает, что их нет\n",
    "\"x**2 - 11*x + 28 = 0\" -> x_1 = 4, x_2 = 7"
   ]
  },
  {
   "cell_type": "markdown",
   "id": "650d81ec",
   "metadata": {},
   "source": [
    "Решение квадратного уравнения с помощью дискриминанта"
   ]
  },
  {
   "cell_type": "code",
   "execution_count": 4,
   "id": "25861f1d",
   "metadata": {},
   "outputs": [
    {
     "name": "stdout",
     "output_type": "stream",
     "text": [
      "[7.0, 4.0]\n",
      "['Уравнение не является квадратным']\n",
      "['Уравнение не имеет действительных корней']\n",
      "[0.0]\n",
      "[0.0, -5.0]\n",
      "['Уравнение не имеет действительных корней']\n"
     ]
    }
   ],
   "source": [
    "import math\n",
    "\n",
    "\n",
    "# для домашнего задания выбран метод решения квадратного уравнения через дискриминант\n",
    "def solv_quad_equation(a: int, b: int, c: int):\n",
    "    # переменная, в которую запишем корни уравнения\n",
    "    result = []\n",
    "\n",
    "    # если a = 0, то уравнение не будет считаться квадратным,\n",
    "    # поэтому далее код выполнять не имеет смысла\n",
    "    if a == 0:\n",
    "        result.append('Уравнение не является квадратным')\n",
    "        return result\n",
    "\n",
    "    # решение полного квадратного уравнения через дискриминант\n",
    "    # в зависимости от значения дискриминанта, определяем кони уравнения\n",
    "    discriminant = b ** 2 - 4 * a * c\n",
    "    if discriminant > 0:\n",
    "        result.append((-1 * b + math.sqrt(discriminant)) / (2 * a))\n",
    "        result.append((-1 * b - math.sqrt(discriminant)) / (2 * a))\n",
    "    elif discriminant == 0:\n",
    "        result.append(-1 * b / (2 * a))\n",
    "    else:\n",
    "        result.append('Уравнение не имеет действительных корней')\n",
    "\n",
    "    return result\n",
    "\n",
    "\n",
    "print(solv_quad_equation(1, -11, 28))\n",
    "print(solv_quad_equation(0, -11, 28))\n",
    "print(solv_quad_equation(1, 0, 28))\n",
    "print(solv_quad_equation(1, 0, 0))\n",
    "print(solv_quad_equation(1, 5, 0))\n",
    "print(solv_quad_equation(2, 11, 28))"
   ]
  },
  {
   "cell_type": "markdown",
   "id": "824ee96d",
   "metadata": {},
   "source": [
    "Ниже приведено решение, которое содержит избыточный код. Решение неполных квадратных уравнений добавил для тренировки"
   ]
  },
  {
   "cell_type": "code",
   "execution_count": 3,
   "id": "1e6d7279",
   "metadata": {},
   "outputs": [
    {
     "name": "stdout",
     "output_type": "stream",
     "text": [
      "[7.0, 4.0]\n",
      "['Уравнение не является квадратным']\n",
      "['Уравнение не имеет действительных корней']\n",
      "['0']\n",
      "['0', -5.0]\n",
      "['Уравнение не имеет действительных корней']\n"
     ]
    }
   ],
   "source": [
    "import math\n",
    "\n",
    "\n",
    "# для домашнего задания выбран метод решения квадратного уравнения через дискриминант\n",
    "def solv_quad_equation(a: int, b: int, c: int):\n",
    "    # переменная, в которую запишем корни уравнения\n",
    "    result = []\n",
    "\n",
    "    # если a = 0, то уравнение не будет считаться квадратным,\n",
    "    # поэтому далее код выполнять не имеет смысла\n",
    "    if a == 0:\n",
    "        result.append('Уравнение не является квадратным')\n",
    "        return result\n",
    "\n",
    "    # сначала проверяем является ли квадратное уравнение полным и решаем граничные варианты,\n",
    "    # для которых применяются частные формулы\n",
    "\n",
    "    # если условие соблюдается, то уравнение имеет только один действительный корень x=0\n",
    "    if b == 0 and c == 0:\n",
    "        result.append('0')\n",
    "    # если условие соблюдается, то уравнение имеет два действительных корня\n",
    "    # x1 = sqrt ( -1 * c / a ), x2 = sqrt( c / a)\n",
    "    elif b == 0 and c != 0:\n",
    "        # если выражение (-1 * с / a) < 0, то уравнение не имеет действительных корней\n",
    "        if (-1 * c / a) >= 0:\n",
    "            result.append(math.sqrt(-1 * c / a))\n",
    "            result.append(-1 * math.sqrt(-1 * c / a))\n",
    "        else:\n",
    "            result.append('Уравнение не имеет действительных корней')\n",
    "    # если условие соблюдается, то уравнение имеет два действительных корня\n",
    "    # x1 = 0, x2 = - 1 * b / a\n",
    "    elif b != 0 and c == 0:\n",
    "        result.append('0')\n",
    "        result.append(-1 * b / a)\n",
    "    # если a, b и c не равны 0, то решаем через дискриминант\n",
    "    else:\n",
    "        # решение полного квадратного уравнения через дискриминант\n",
    "        # в зависимости от значения дискриминанта, определяем кони уравнения\n",
    "        discriminant = b ** 2 - 4 * a * c\n",
    "        if discriminant > 0:\n",
    "            result.append((-b + math.sqrt(discriminant)) / (2 * a))\n",
    "            result.append((-b - math.sqrt(discriminant)) / (2 * a))\n",
    "        elif discriminant == 0:\n",
    "            result.append(-1 * b / (2 * a))\n",
    "        else:\n",
    "            result.append('Уравнение не имеет действительных корней')\n",
    "\n",
    "    return result\n",
    "\n",
    "\n",
    "print(solv_quad_equation(1, -11, 28))\n",
    "print(solv_quad_equation(0, -11, 28))\n",
    "print(solv_quad_equation(1, 0, 28))\n",
    "print(solv_quad_equation(1, 0, 0))\n",
    "print(solv_quad_equation(1, 5, 0))\n",
    "print(solv_quad_equation(2, 11, 28))\n"
   ]
  },
  {
   "cell_type": "markdown",
   "id": "1c399a2b",
   "metadata": {},
   "source": [
    "## Форматирование целых чисел"
   ]
  },
  {
   "cell_type": "markdown",
   "id": "7da95bdc",
   "metadata": {},
   "source": [
    "Вводится целое число (любого размера). Написать функцию, которая разобьет это число на разряды символом \"пробел\", Функция возвращает тип данных str\n",
    "1234567 -> 1 234 567, 267 -> 267, 34976 -> 34 976`"
   ]
  },
  {
   "cell_type": "code",
   "execution_count": 6,
   "id": "6b6bf074",
   "metadata": {},
   "outputs": [
    {
     "name": "stdout",
     "output_type": "stream",
     "text": [
      "1 234 567\n",
      "267\n",
      "34 976\n",
      "-1 234 567\n",
      "-267\n",
      "-34 976\n",
      "0\n"
     ]
    }
   ],
   "source": [
    "def format_number(number):\n",
    "    # преобразуем число в list и инвертируем, чтобы перебрать элементы с последнего\n",
    "    original_number = list(str(abs(number)))\n",
    "    original_number.reverse()\n",
    "    formatted_number = []\n",
    "    rank = 0\n",
    "    # если разряд делится на 3 без остатка, то добавляем пробел\n",
    "    # и собираем все элементы в новый list\n",
    "    for i in original_number:\n",
    "        formatted_number.append(i)\n",
    "        rank += 1\n",
    "        # вторая часть условия нужна, чтобы не получить пробел в начале числа\n",
    "        if rank % 3 == 0 and rank != len(original_number):\n",
    "            formatted_number.append(' ')\n",
    "    # если число отрицательное, то вернем знак \"-\"\n",
    "    if number < 0:\n",
    "        formatted_number.append(\"-\")\n",
    "    # т.к. число у нас \"перевернуто\", то делаем обратную инверсию\n",
    "    # и \"собираем\" отформатированное число\n",
    "    formatted_number.reverse()\n",
    "    return ''.join(formatted_number)\n",
    "\n",
    "print(format_number(1234567))\n",
    "print(format_number(267))\n",
    "print(format_number(34976))\n",
    "print(format_number(-1234567))\n",
    "print(format_number(-267))\n",
    "print(format_number(-34976))\n",
    "print(format_number(0))"
   ]
  },
  {
   "cell_type": "markdown",
   "id": "7bfda8ac",
   "metadata": {},
   "source": [
    "## Преобразование нотации снейк_кейс на КамелКейс и обратное"
   ]
  },
  {
   "cell_type": "markdown",
   "id": "c8b15b97",
   "metadata": {},
   "source": [
    "Написать функцию, которая заменяет принимает строку текста и изменяет снейк_кейс на КамелКейс и наоборот\n",
    "my_first_func -> MyFirstFunc, AnotherFunction -> nother_function"
   ]
  },
  {
   "cell_type": "code",
   "execution_count": 8,
   "id": "552e1807",
   "metadata": {},
   "outputs": [
    {
     "name": "stdout",
     "output_type": "stream",
     "text": [
      "MyFirstFunc\n",
      "my_test_func\n"
     ]
    }
   ],
   "source": [
    "import re\n",
    "\n",
    "\n",
    "def format_variable(var):\n",
    "    delimiter = \"_\"\n",
    "    # пробуем разбить строку на элементы по разделителю \n",
    "    my_list = var.split(delimiter)\n",
    "    new_list = []\n",
    "    # Определяем нотацию по наличию разделителя. Если один элемент, то у это кэмел \n",
    "    if len(my_list) == 1:\n",
    "        # преобразуем кэмел кейс в снейк кейс\n",
    "        # разбиваем на паттерны с помощью регулярного выражения\n",
    "        my_list = re.findall('[A-Z][^A-Z]*', var)\n",
    "        # перебираем элементы, приводим к нижнему регистру добавляем разделитель \n",
    "        for i in my_list:\n",
    "            new_list.append(i.casefold())\n",
    "            new_list.append(delimiter)\n",
    "        # удаляем лишний разделитель в конце строки\n",
    "        new_list.pop()\n",
    "    else:\n",
    "        # Если элементов несколько, то на входе у нас снейк кейс и преобразуем его в кэмел\n",
    "        # собираем все элементы в одну строку, преобразую первую букву каждого элемента к верхнему регистру\n",
    "        for i in my_list:\n",
    "            new_list.append(i.capitalize())\n",
    "    return ''.join(new_list)\n",
    "\n",
    "\n",
    "print(format_variable(\"my_first_func\"))\n",
    "print(format_variable(\"MyTestFunc\"))"
   ]
  }
 ],
 "metadata": {
  "kernelspec": {
   "display_name": "Python 3 (ipykernel)",
   "language": "python",
   "name": "python3"
  },
  "language_info": {
   "codemirror_mode": {
    "name": "ipython",
    "version": 3
   },
   "file_extension": ".py",
   "mimetype": "text/x-python",
   "name": "python",
   "nbconvert_exporter": "python",
   "pygments_lexer": "ipython3",
   "version": "3.11.4"
  }
 },
 "nbformat": 4,
 "nbformat_minor": 5
}
