{
 "cells": [
  {
   "cell_type": "code",
   "execution_count": 1,
   "id": "170dfa2d",
   "metadata": {},
   "outputs": [
    {
     "name": "stdout",
     "output_type": "stream",
     "text": [
      "[7.0, 4.0]\n",
      "['Уравнение не является квадратным']\n",
      "['Уравнение не имеет действительных корней']\n",
      "['0']\n",
      "['0', -5.0]\n",
      "['Уравнение не имеет действительных корней']\n"
     ]
    }
   ],
   "source": [
    "import math\n",
    "\n",
    "\n",
    "# Написать функцию, которая принимает на вход квадратное\n",
    "# уравнение (одной строкой) и возвращает его корни,\n",
    "# либо сообщает, что их нет\n",
    "# \"x**2 - 11*x + 28 = 0\" -> x_1 = 4, x_2 = 7\n",
    "\n",
    "# для домашнего задания выбран метод решения квадратного уравнения через дискриминант\n",
    "def solv_quad_equation(a: int, b: int, c: int):\n",
    "    # переменная, в которую запишем корни уравнения\n",
    "    result = []\n",
    "\n",
    "    # если a = 0, то уравнение не будет считаться квадратным,\n",
    "    # поэтому далее код выполнять не имеет смысла\n",
    "    if a == 0:\n",
    "        result.append('Уравнение не является квадратным')\n",
    "        return result\n",
    "\n",
    "    # сначала проверяем является ли квадратное уравнение полным и решаем граничные варианты,\n",
    "    # для которых применяются частные формулы\n",
    "\n",
    "    # если условие соблюдается, то уравнение имеет только один действительный корень x=0\n",
    "    if b == 0 and c == 0:\n",
    "        result.append('0')\n",
    "    # если условие соблюдается, то уравнение имеет два действительных корня\n",
    "    # x1 = sqrt ( -1 * c / a ), x2 = sqrt( c / a)\n",
    "    elif b == 0 and c != 0:\n",
    "        # если выражение (-1 * с / a) < 0, то уравнение не имеет действительных корней\n",
    "        if (-1 * c / a) >= 0:\n",
    "            result.append(math.sqrt(-1 * c / a))\n",
    "            result.append(-1 * math.sqrt(-1 * c / a))\n",
    "        else:\n",
    "            result.append('Уравнение не имеет действительных корней')\n",
    "    # если условие соблюдается, то уравнение имеет два действительных корня\n",
    "    # x1 = 0, x2 = - 1 * b / a\n",
    "    elif b != 0 and c == 0:\n",
    "        result.append('0')\n",
    "        result.append(-1 * b / a)\n",
    "    # если a, b и c не равны 0, то решаем через дискриминант\n",
    "    else:\n",
    "        # решение полного квадратного уравнения через дискриминант\n",
    "        # в зависимости от значения дискриминанта, определяем кони уравнения\n",
    "        discriminant = b ** 2 - 4 * a * c\n",
    "        if discriminant > 0:\n",
    "            result.append((-b + math.sqrt(discriminant)) / (2 * a))\n",
    "            result.append((-b - math.sqrt(discriminant)) / (2 * a))\n",
    "        elif discriminant == 0:\n",
    "            result.append(-1 * b / (2 * a))\n",
    "        else:\n",
    "            result.append('Уравнение не имеет действительных корней')\n",
    "\n",
    "    return result\n",
    "\n",
    "\n",
    "print(solv_quad_equation(1, -11, 28))\n",
    "print(solv_quad_equation(0, -11, 28))\n",
    "print(solv_quad_equation(1, 0, 28))\n",
    "print(solv_quad_equation(1, 0, 0))\n",
    "print(solv_quad_equation(1, 5, 0))\n",
    "print(solv_quad_equation(2, 11, 28))\n"
   ]
  },
  {
   "cell_type": "code",
   "execution_count": 2,
   "id": "b242d09e",
   "metadata": {},
   "outputs": [
    {
     "name": "stdout",
     "output_type": "stream",
     "text": [
      "[7.0, 4.0]\n",
      "['Уравнение не является квадратным']\n",
      "['Уравнение не имеет действительных корней']\n",
      "[0.0]\n",
      "[0.0, -5.0]\n",
      "['Уравнение не имеет действительных корней']\n"
     ]
    }
   ],
   "source": [
    "import math\n",
    "\n",
    "\n",
    "def solv_quad_equation(a: int, b: int, c: int):\n",
    "    # переменная, в которую запишем корни уравнения\n",
    "    result = []\n",
    "\n",
    "    # если a = 0, то уравнение не будет считаться квадратным,\n",
    "    # поэтому далее код выполнять не имеет смысла\n",
    "    if a == 0:\n",
    "        result.append('Уравнение не является квадратным')\n",
    "        return result\n",
    "\n",
    "    # решение полного квадратного уравнения через дискриминант\n",
    "    # в зависимости от значения дискриминанта, определяем кони уравнения\n",
    "    discriminant = b ** 2 - 4 * a * c\n",
    "    if discriminant > 0:\n",
    "        result.append((-1 * b + math.sqrt(discriminant)) / (2 * a))\n",
    "        result.append((-1 * b - math.sqrt(discriminant)) / (2 * a))\n",
    "    elif discriminant == 0:\n",
    "        result.append(-1 * b / (2 * a))\n",
    "    else:\n",
    "        result.append('Уравнение не имеет действительных корней')\n",
    "\n",
    "    return result\n",
    "\n",
    "\n",
    "print(solv_quad_equation(1, -11, 28))\n",
    "print(solv_quad_equation(0, -11, 28))\n",
    "print(solv_quad_equation(1, 0, 28))\n",
    "print(solv_quad_equation(1, 0, 0))\n",
    "print(solv_quad_equation(1, 5, 0))\n",
    "print(solv_quad_equation(2, 11, 28))"
   ]
  }
 ],
 "metadata": {
  "kernelspec": {
   "display_name": "Python 3 (ipykernel)",
   "language": "python",
   "name": "python3"
  },
  "language_info": {
   "codemirror_mode": {
    "name": "ipython",
    "version": 3
   },
   "file_extension": ".py",
   "mimetype": "text/x-python",
   "name": "python",
   "nbconvert_exporter": "python",
   "pygments_lexer": "ipython3",
   "version": "3.11.4"
  }
 },
 "nbformat": 4,
 "nbformat_minor": 5
}
